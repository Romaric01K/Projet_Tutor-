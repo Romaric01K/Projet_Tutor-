{
 "cells": [
  {
   "cell_type": "markdown",
   "id": "13fdea5d",
   "metadata": {},
   "source": [
    "# Modélisation"
   ]
  },
  {
   "cell_type": "markdown",
   "id": "115baaa7",
   "metadata": {},
   "source": [
    "Importation des modules"
   ]
  },
  {
   "cell_type": "code",
   "execution_count": 66,
   "id": "f209ff1a",
   "metadata": {},
   "outputs": [],
   "source": [
    "import pandas as pd  \n",
    "import numpy as np, pandas as pd, matplotlib as plt\n",
    "import matplotlib.pyplot as plt\n",
    "import seaborn as sns\n",
    "from scipy.stats import spearmanr, chi2_contingency\n",
    "from scipy.stats.contingency import association\n",
    "from scipy.stats import mannwhitneyu, norm\n",
    "import chardet\n",
    "import unicodedata\n",
    "from sklearn.linear_model import LogisticRegression\n",
    "from sklearn.model_selection import train_test_split\n",
    "from sklearn.metrics import classification_report\n",
    "import statsmodels.formula.api as smf\n",
    "import statsmodels.api as sm\n",
    "from sklearn.preprocessing import StandardScaler\n",
    "\n"
   ]
  },
  {
   "cell_type": "markdown",
   "id": "0cb87b71",
   "metadata": {},
   "source": [
    "## Importation des bases de données"
   ]
  },
  {
   "cell_type": "code",
   "execution_count": 82,
   "id": "b352f8c0",
   "metadata": {},
   "outputs": [],
   "source": [
    "\n",
    "base_finale= pd.read_csv(\"base_finale.csv\", delimiter=\",\", low_memory=False)"
   ]
  },
  {
   "cell_type": "code",
   "execution_count": 83,
   "id": "0eb559e7",
   "metadata": {},
   "outputs": [
    {
     "name": "stdout",
     "output_type": "stream",
     "text": [
      "<class 'pandas.core.frame.DataFrame'>\n",
      "RangeIndex: 126073 entries, 0 to 126072\n",
      "Data columns (total 41 columns):\n",
      " #   Column       Non-Null Count   Dtype  \n",
      "---  ------       --------------   -----  \n",
      " 0   Unnamed: 0   126073 non-null  int64  \n",
      " 1   Num_Acc      126073 non-null  int64  \n",
      " 2   id_vehicule  126073 non-null  object \n",
      " 3   num_veh      126073 non-null  object \n",
      " 4   place        126073 non-null  int64  \n",
      " 5   catu         126073 non-null  int64  \n",
      " 6   grav         126073 non-null  int64  \n",
      " 7   sexe         126073 non-null  int64  \n",
      " 8   an_nais      126073 non-null  float64\n",
      " 9   trajet       126073 non-null  int64  \n",
      " 10  secu1        126073 non-null  int64  \n",
      " 11  secu2        126073 non-null  int64  \n",
      " 12  secu3        126073 non-null  int64  \n",
      " 13  locp         126073 non-null  int64  \n",
      " 14  actp         126073 non-null  object \n",
      " 15  etatp        126073 non-null  int64  \n",
      " 16  senc         126073 non-null  int64  \n",
      " 17  catv         126073 non-null  int64  \n",
      " 18  obs          126073 non-null  int64  \n",
      " 19  obsm         126073 non-null  int64  \n",
      " 20  choc         126073 non-null  int64  \n",
      " 21  manv         126073 non-null  int64  \n",
      " 22  motor        126073 non-null  int64  \n",
      " 23  occutc       1341 non-null    float64\n",
      " 24  jour         126070 non-null  float64\n",
      " 25  mois         126070 non-null  float64\n",
      " 26  an           126070 non-null  float64\n",
      " 27  hrmn         126073 non-null  object \n",
      " 28  lum          126070 non-null  float64\n",
      " 29  com          126073 non-null  object \n",
      " 30  agg          126070 non-null  float64\n",
      " 31  int          126070 non-null  float64\n",
      " 32  atm          126070 non-null  float64\n",
      " 33  col          126070 non-null  float64\n",
      " 34  adr          124715 non-null  object \n",
      " 35  lat          126070 non-null  object \n",
      " 36  long         126070 non-null  object \n",
      " 37  nb_usagers   126073 non-null  int64  \n",
      " 38  dep          126073 non-null  object \n",
      " 39  catv_group   126073 non-null  object \n",
      " 40  age          126073 non-null  float64\n",
      "dtypes: float64(11), int64(20), object(10)\n",
      "memory usage: 39.4+ MB\n"
     ]
    }
   ],
   "source": [
    "base_finale.info()"
   ]
  },
  {
   "cell_type": "code",
   "execution_count": null,
   "id": "8751d07a",
   "metadata": {},
   "outputs": [],
   "source": []
  },
  {
   "cell_type": "code",
   "execution_count": 75,
   "id": "c008eeb2",
   "metadata": {},
   "outputs": [],
   "source": [
    "catv_labels = {\n",
    "    1: \"VP\", 2: \"VU\", 3: \"PL <= 3.5t\", 4: \"PL > 3.5t\", 5: \"PL + remorque\",\n",
    "    6: \"Véhicule de transport en commun\", 7: \"Taxi\", 8: \"Deux-roues motorisé\",\n",
    "    9: \"Cyclomoteur\", 10: \"Bicyclette\", 11: \"Engin spécial\", 12: \"Tracteur agricole\",\n",
    "    13: \"Autobus\", 14: \"Tramway\", 15: \"Autre\"\n",
    "}\n",
    "\n",
    "catu_labels = {\n",
    "    1: \"Conducteur\",2: \"Passager\",3: \"Piéton\"\n",
    "}\n",
    "atm_labels = {\n",
    "    1: \"Normale\", 2: \"Pluie légère\", 3: \"Pluie forte\", 4: \"Neige - grêle\", 5: \"Brouillard - fumée\", 6: \"Vent fort\",\n",
    "    7: \"Temps éblouissant\",8: \"Temps couvert\",9: \"Autre\"\n",
    "}\n",
    "lum_labels = {\n",
    "    1: \"Plein jour\",2: \"Crépuscule ou aube\",3: \"Nuit sans éclairage public\",4: \"Nuit avec éclairage non allumé\",\n",
    "    5: \"Nuit avec éclairage allumé\"\n",
    "}\n",
    "trajet_labels = {\n",
    "    1: \"Domicile - travail\",2: \"Domicile - école\",3: \"Professionnel \",4: \"Personnel - loisirs\",\n",
    "    5: \"Autre\"\n",
    "}\n"
   ]
  },
  {
   "cell_type": "code",
   "execution_count": 76,
   "id": "4dde8ffb",
   "metadata": {},
   "outputs": [],
   "source": [
    "base_finale['catu'] = base_finale['catu'].map(catu_labels)\n",
    "base_finale['catv'] = base_finale['catv'].map(catv_labels)\n",
    "base_finale['atm']  = base_finale['atm'].map(atm_labels)\n",
    "base_finale['lum']  = base_finale['lum'].map(lum_labels)\n",
    "base_finale['trajet'] = base_finale['trajet'].map(trajet_labels)\n"
   ]
  },
  {
   "cell_type": "markdown",
   "id": "a76ca5a8",
   "metadata": {},
   "source": [
    "Régression logistique : prédire la gravité\n",
    "* Objectif : prédire si un usager est blessé (grav > 1) ou indemne."
   ]
  },
  {
   "cell_type": "code",
   "execution_count": 84,
   "id": "3183b185",
   "metadata": {},
   "outputs": [
    {
     "name": "stdout",
     "output_type": "stream",
     "text": [
      "Optimization terminated successfully.\n",
      "         Current function value: 0.628451\n",
      "         Iterations 5\n",
      "=== Modèle logistique binaire : Blessé vs Indemne ===\n",
      "                          Results: Logit\n",
      "==================================================================\n",
      "Model:              Logit            Method:           MLE        \n",
      "Dependent Variable: cible_blesse     Pseudo R-squared: 0.083      \n",
      "Date:               2025-05-12 00:48 AIC:              158481.6408\n",
      "No. Observations:   126070           BIC:              158598.5759\n",
      "Df Model:           11               Log-Likelihood:   -79229.    \n",
      "Df Residuals:       126058           LL-Null:          -86437.    \n",
      "Converged:          1.0000           LLR p-value:      0.0000     \n",
      "No. Iterations:     5.0000           Scale:            1.0000     \n",
      "--------------------------------------------------------------------\n",
      "           Coef.    Std.Err.      z       P>|z|     [0.025    0.975]\n",
      "--------------------------------------------------------------------\n",
      "const     -1.5427     0.0326   -47.3002   0.0000   -1.6067   -1.4788\n",
      "sexe       0.2783     0.0134    20.7150   0.0000    0.2520    0.3046\n",
      "age       -0.0066     0.0003   -20.0007   0.0000   -0.0073   -0.0060\n",
      "catv       0.0371     0.0006    64.6955   0.0000    0.0360    0.0382\n",
      "catu       0.7819     0.0117    66.9248   0.0000    0.7590    0.8048\n",
      "atm       -0.0005     0.0035    -0.1523   0.8789   -0.0075    0.0064\n",
      "lum        0.0396     0.0043     9.2101   0.0000    0.0312    0.0481\n",
      "trajet    -0.0132     0.0022    -5.9825   0.0000   -0.0175   -0.0089\n",
      "secu1      0.0829     0.0029    28.4337   0.0000    0.0772    0.0886\n",
      "secu2      0.0459     0.0016    27.9548   0.0000    0.0427    0.0492\n",
      "choc      -0.0163     0.0025    -6.4433   0.0000   -0.0212   -0.0113\n",
      "manv      -0.0180     0.0007   -24.1435   0.0000   -0.0195   -0.0165\n",
      "==================================================================\n",
      "\n"
     ]
    }
   ],
   "source": [
    "import pandas as pd\n",
    "import numpy as np\n",
    "import statsmodels.api as sm\n",
    "from sklearn.model_selection import train_test_split\n",
    "from sklearn.preprocessing import StandardScaler\n",
    "\n",
    "# Création de la variable cible : blessé (1) ou indemne (0)\n",
    "base_finale['cible_blesse'] = base_finale['grav'].apply(lambda x: 1 if x in [3, 4] else 0)\n",
    "\n",
    "# Liste des variables explicatives sélectionnées\n",
    "variables = ['sexe', 'age', 'catv', 'catu', 'atm', 'lum', 'trajet', 'secu1', 'secu2', 'choc', 'manv']\n",
    "\n",
    "# Création de la base\n",
    "df_model = base_finale[variables + ['cible_blesse']].dropna()\n",
    "\n",
    "# Encodage des variables catégorielles\n",
    "X = pd.get_dummies(df_model.drop(columns='cible_blesse'), drop_first=True)\n",
    "X = sm.add_constant(X)\n",
    "\n",
    "# Cible\n",
    "y = df_model['cible_blesse'].astype(float)\n",
    "\n",
    "# Suppression des NaN ou inf\n",
    "X.replace([np.inf, -np.inf], np.nan, inplace=True)\n",
    "df_clean = pd.concat([X, y], axis=1).dropna()\n",
    "X_clean = df_clean.drop(columns='cible_blesse')\n",
    "y_clean = df_clean['cible_blesse']\n",
    "\n",
    "# Régression logistique binaire\n",
    "logit_model = sm.Logit(y_clean, X_clean)\n",
    "result = logit_model.fit()\n",
    "\n",
    "# Résumé\n",
    "print(\"=== Modèle logistique binaire : Blessé vs Indemne ===\")\n",
    "print(result.summary2())\n"
   ]
  },
  {
   "cell_type": "code",
   "execution_count": 85,
   "id": "cd56f162",
   "metadata": {},
   "outputs": [
    {
     "name": "stdout",
     "output_type": "stream",
     "text": [
      "         Coef.  Odds Ratio  OR 2.5%  OR 97.5%\n",
      "const  -1.5427      0.2138   0.2006    0.2279\n",
      "sexe    0.2783      1.3209   1.2865    1.3561\n",
      "age    -0.0066      0.9934   0.9927    0.9940\n",
      "catv    0.0371      1.0378   1.0366    1.0389\n",
      "catu    0.7819      2.1856   2.1361    2.2362\n",
      "atm    -0.0005      0.9995   0.9926    1.0064\n",
      "lum     0.0396      1.0404   1.0317    1.0492\n",
      "trajet -0.0132      0.9869   0.9826    0.9912\n",
      "secu1   0.0829      1.0864   1.0802    1.0927\n",
      "secu2   0.0459      1.0470   1.0437    1.0504\n",
      "choc   -0.0163      0.9839   0.9790    0.9888\n",
      "manv   -0.0180      0.9822   0.9807    0.9836\n"
     ]
    }
   ],
   "source": [
    "# Coefficients et odds ratios\n",
    "params = result.params\n",
    "conf = result.conf_int()\n",
    "conf.columns = ['2.5%', '97.5%']\n",
    "odds = np.exp(params)\n",
    "conf_exp = np.exp(conf)\n",
    "summary_table = pd.concat([params, odds, conf_exp], axis=1)\n",
    "summary_table.columns = ['Coef.', 'Odds Ratio', 'OR 2.5%', 'OR 97.5%']\n",
    "print(summary_table.round(4))\n"
   ]
  },
  {
   "cell_type": "code",
   "execution_count": 86,
   "id": "81aedb3f",
   "metadata": {},
   "outputs": [
    {
     "name": "stdout",
     "output_type": "stream",
     "text": [
      "Optimization terminated successfully.\n",
      "         Current function value: 1.016981\n",
      "         Iterations 8\n",
      "=== Modèle logistique multinomial : prédiction de la gravité exacte ===\n",
      "                          MNLogit Regression Results                          \n",
      "==============================================================================\n",
      "Dep. Variable:                   grav   No. Observations:               126070\n",
      "Model:                        MNLogit   Df Residuals:                   126034\n",
      "Method:                           MLE   Df Model:                           33\n",
      "Date:                Mon, 12 May 2025   Pseudo R-squ.:                 0.08394\n",
      "Time:                        00:48:13   Log-Likelihood:            -1.2821e+05\n",
      "converged:                       True   LL-Null:                   -1.3996e+05\n",
      "Covariance Type:            nonrobust   LLR p-value:                     0.000\n",
      "==============================================================================\n",
      "    grav=2       coef    std err          z      P>|z|      [0.025      0.975]\n",
      "------------------------------------------------------------------------------\n",
      "const         -6.1749      0.106    -58.446      0.000      -6.382      -5.968\n",
      "sexe          -0.4832      0.046    -10.474      0.000      -0.574      -0.393\n",
      "age            0.0210      0.001     22.821      0.000       0.019       0.023\n",
      "catv           0.0380      0.001     27.471      0.000       0.035       0.041\n",
      "catu           0.7645      0.028     26.832      0.000       0.709       0.820\n",
      "atm            0.0422      0.010      4.358      0.000       0.023       0.061\n",
      "lum            0.1555      0.013     12.224      0.000       0.131       0.180\n",
      "trajet         0.0392      0.007      5.682      0.000       0.026       0.053\n",
      "secu1          0.1120      0.008     13.707      0.000       0.096       0.128\n",
      "secu2          0.2257      0.007     31.177      0.000       0.211       0.240\n",
      "choc          -0.0642      0.008     -7.761      0.000      -0.080      -0.048\n",
      "manv          -0.0164      0.002     -7.008      0.000      -0.021      -0.012\n",
      "------------------------------------------------------------------------------\n",
      "    grav=3       coef    std err          z      P>|z|      [0.025      0.975]\n",
      "------------------------------------------------------------------------------\n",
      "const         -3.6102      0.049    -73.666      0.000      -3.706      -3.514\n",
      "sexe          -0.0358      0.020     -1.757      0.079      -0.076       0.004\n",
      "age            0.0027      0.000      5.652      0.000       0.002       0.004\n",
      "catv           0.0438      0.001     59.439      0.000       0.042       0.045\n",
      "catu           0.7900      0.016     50.305      0.000       0.759       0.821\n",
      "atm            0.0083      0.005      1.629      0.103      -0.002       0.018\n",
      "lum            0.0439      0.007      6.751      0.000       0.031       0.057\n",
      "trajet         0.0131      0.003      3.964      0.000       0.007       0.020\n",
      "secu1          0.1031      0.004     24.606      0.000       0.095       0.111\n",
      "secu2          0.1853      0.003     62.991      0.000       0.179       0.191\n",
      "choc          -0.0583      0.004    -15.110      0.000      -0.066      -0.051\n",
      "manv          -0.0232      0.001    -20.465      0.000      -0.025      -0.021\n",
      "------------------------------------------------------------------------------\n",
      "    grav=4       coef    std err          z      P>|z|      [0.025      0.975]\n",
      "------------------------------------------------------------------------------\n",
      "const         -1.9288      0.036    -54.251      0.000      -1.999      -1.859\n",
      "sexe           0.3444      0.014     23.817      0.000       0.316       0.373\n",
      "age           -0.0075      0.000    -20.493      0.000      -0.008      -0.007\n",
      "catv           0.0399      0.001     63.717      0.000       0.039       0.041\n",
      "catu           0.9004      0.013     69.408      0.000       0.875       0.926\n",
      "atm            0.0010      0.004      0.257      0.797      -0.007       0.009\n",
      "lum            0.0524      0.005     11.265      0.000       0.043       0.062\n",
      "trajet        -0.0192      0.002     -8.019      0.000      -0.024      -0.015\n",
      "secu1          0.0872      0.003     27.607      0.000       0.081       0.093\n",
      "secu2          0.0181      0.002     10.211      0.000       0.015       0.022\n",
      "choc          -0.0081      0.003     -2.965      0.003      -0.013      -0.003\n",
      "manv          -0.0177      0.001    -21.835      0.000      -0.019      -0.016\n",
      "==============================================================================\n"
     ]
    }
   ],
   "source": [
    "import statsmodels.api as sm\n",
    "from sklearn.preprocessing import StandardScaler\n",
    "\n",
    "# Variables explicatives\n",
    "variables = ['sexe', 'age', 'catv', 'catu', 'atm', 'lum', 'trajet', 'secu1', 'secu2', 'choc', 'manv']\n",
    "\n",
    "# Création de la base avec la gravité comme cible multinomiale\n",
    "df_multi = base_finale[variables + ['grav']].dropna()\n",
    "\n",
    "# Encodage\n",
    "X = pd.get_dummies(df_multi.drop(columns='grav'), drop_first=True)\n",
    "X = sm.add_constant(X)\n",
    "y = df_multi['grav'].astype(int)\n",
    "\n",
    "# Nettoyage\n",
    "X.replace([np.inf, -np.inf], np.nan, inplace=True)\n",
    "df_clean = pd.concat([X, y], axis=1).dropna()\n",
    "X_clean = df_clean.drop(columns='grav')\n",
    "y_clean = df_clean['grav']\n",
    "\n",
    "# Régression logistique multinomiale (MNLogit)\n",
    "mnlogit_model = sm.MNLogit(y_clean, X_clean)\n",
    "mnlogit_result = mnlogit_model.fit()\n",
    "\n",
    "# Résumé\n",
    "print(\"=== Modèle logistique multinomial : prédiction de la gravité exacte ===\")\n",
    "print(mnlogit_result.summary())\n"
   ]
  },
  {
   "cell_type": "code",
   "execution_count": null,
   "id": "feb17d2e",
   "metadata": {},
   "outputs": [],
   "source": []
  }
 ],
 "metadata": {
  "kernelspec": {
   "display_name": "base",
   "language": "python",
   "name": "python3"
  },
  "language_info": {
   "codemirror_mode": {
    "name": "ipython",
    "version": 3
   },
   "file_extension": ".py",
   "mimetype": "text/x-python",
   "name": "python",
   "nbconvert_exporter": "python",
   "pygments_lexer": "ipython3",
   "version": "3.12.4"
  }
 },
 "nbformat": 4,
 "nbformat_minor": 5
}
